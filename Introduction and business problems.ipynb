{
 "cells": [
  {
   "cell_type": "markdown",
   "metadata": {
    "collapsed": true
   },
   "source": [
    "# Peer-graded Assignment: Capstone Project - The Battle of Neighborhoods (Week 1)\n",
    "#### Review criteria\n",
    "- A description of the problem and a discussion of the background. \n",
    "\n",
    "- A description of the data and how it will be used to solve the problem."
   ]
  },
  {
   "cell_type": "markdown",
   "metadata": {},
   "source": [
    "## Title: Starting up successful restaurant businessin New York City"
   ]
  },
  {
   "cell_type": "markdown",
   "metadata": {},
   "source": [
    "### Introduction "
   ]
  },
  {
   "cell_type": "markdown",
   "metadata": {},
   "source": [
    "1. Why New York City (NYC) ?\n",
    "\n",
    "New York City (NYC) is the most populous city in the United States as well as worldwide. We often call United States as the \"melting pot\". Among big cities in States, especially New York City can be nicely expressed with the nick name above (\"melting pot\"). With an estimated 2018 population of 8,398,748 distributed over about 302.6 square miles (784 km**2), New York is also the most densely populated major city in the United States[1]. Located at the southern tip of the U.S. state of New York, the city is the center of the New York metropolitan area, the largest metropolitan area in the world by urban landmass.[2] With almost 20 million people in its metropolitan statistical area and approximately 23 million in its combined statistical area, it is one of the world's most populous megacities. New York City has been described as the cultural, financial, and media capital of the world, significantly influencing commerce,[3,4] entertainment, research, technology, education, politics, tourism, art, fashion, and sports. Home to the headquarters of the United Nations,[5] In addition, New York is an important center for international diplomacy. Through all of powerful environmental conditions like aboves, New York City provides various business oppourtunities and tempts to start up the business."
   ]
  },
  {
   "cell_type": "markdown",
   "metadata": {},
   "source": [
    "2. How to approach to business item ?\n",
    "\n",
    "In this chapter, I am going to expalain how I've approach to the target business (restaurant business) and supporting sentences for my choice. As you know, there are the neccessities of life. They are food, clothing, and shelters. First of all, I made a focus on those essential things for human life. Next, I thought about the way to extremely take benefits of the environmental characterstics of New York City. The main key of my decesion is \"floating population\" of New York City. As I made a comment above, population of New York City is more than 23 million. Then, let us think about floating population. New York shares its borders with five states: Pennsylvania, New Jersey, Vermont, Connecticut, and Massachusetts [6]. Numerous people are commuting to or through New York City from surrounding States/Cities. Moreover, we should remember that various people from other countries visit New York City through airway for traveling or business trip. Finally, I sorted the best item among human necessities to make fit for this floating population. Fianlly, I choose the food among human essentials and easly approach to business item as a restaurant one.    "
   ]
  },
  {
   "cell_type": "markdown",
   "metadata": {},
   "source": [
    "3. Why restaurant business ?\n",
    "\n",
    "\n",
    "- The business is flexible\n",
    "\n",
    "- The demand is high\n",
    "\n",
    "- Different products to suite your style\n",
    "\n",
    "- Different business structure as options\n",
    "\n",
    "- The business is lucrative"
   ]
  },
  {
   "cell_type": "markdown",
   "metadata": {},
   "source": [
    "### Business problem / Approaching methodolgy"
   ]
  },
  {
   "cell_type": "markdown",
   "metadata": {},
   "source": [
    "1. How to choose a type of restaurant business ?\n",
    "\n",
    "Somebody says that \"New York City is made by immigrants\". I understand this sentence as New York City has deep immigrant history and is multi-cultural city. The New York Times descirbes that how immigrants made the City [7]. The multi-cultural characteristics of New York City provides us to broad range of categories of foods. I carried out researches and summarize the best restaurant of New York City with food categories as below (information from business insider [8])\n",
    "\n"
   ]
  },
  {
   "cell_type": "code",
   "execution_count": 1,
   "metadata": {},
   "outputs": [
    {
     "data": {
      "text/plain": [
       "AMERICAN                  Kingsley\n",
       "Malaysian                   Asiate\n",
       "GERMAN/SWISS                Wallsé\n",
       "CANADIAN        Hometown Bar-B-Que\n",
       "CARIBBEAN               Ali's Roti\n",
       "PHILIPPINEAN               PIO PIO\n",
       "DUTCH            Black Iron Burger\n",
       "CHINESE                      Decoy\n",
       "AUSTRIAN          Russ & Daughters\n",
       "Indonesian              Pacificana\n",
       "French                Le Bernardin\n",
       "Belgian                 Wallflower\n",
       "GREEK                        Milos\n",
       "INDIAN               Indian Accent\n",
       "ITALIAN                      Marea\n",
       "JAPANESE              Sushi Yasuda\n",
       "KOREAN                     Jungsik\n",
       "SPANISH            PearlOyster Bar\n",
       "Portuguese             Meadowsweet\n",
       "MEXICAN             Los Tacos No.1\n",
       "IRANIAN                   Tanoreen\n",
       "BRAZILIAN                Llama Inn\n",
       "THAI                    SriPraPhai\n",
       "TURKISH               Taci's Beyti\n",
       "VIETNAMESE               Bricolage\n",
       "dtype: object"
      ]
     },
     "execution_count": 1,
     "metadata": {},
     "output_type": "execute_result"
    }
   ],
   "source": [
    "import pandas as pd\n",
    "my_series = pd.Series({\"AMERICAN\":\"Kingsley\", \"Malaysian\":\"Asiate\", \"GERMAN/SWISS\":\"Wallsé\", \"CANADIAN\":\"Hometown Bar-B-Que\", \"CARIBBEAN\":\"Ali's Roti\", \n",
    "                       \"PHILIPPINEAN\":\"PIO PIO\", \"DUTCH\":\"Black Iron Burger\", \"CHINESE\":\"Decoy\", \"AUSTRIAN\":\"Russ & Daughters\", \"Indonesian\":\"Pacificana\", \"French\":\"Le Bernardin\", \n",
    "                       \"Belgian\":\"Wallflower\", \"GREEK\":\"Milos\", \"INDIAN\": \"Indian Accent\", \"ITALIAN\": \"Marea\", \"JAPANESE\":\"Sushi Yasuda\", \"ITALIAN\":\"Marea\", \n",
    "                       \"KOREAN\":\"Jungsik\", \"SPANISH\":\"PearlOyster Bar\", \"Portuguese\":\"Meadowsweet\", \"MEXICAN\":\"Los Tacos No.1\", \"IRANIAN\":\"Tanoreen\", \"BRAZILIAN\":\"Llama Inn\",\n",
    "                       \"THAI\":\"SriPraPhai\", \"TURKISH\":\"Taci's Beyti\", \"VIETNAMESE\":\"Bricolage\"})\n",
    "my_series"
   ]
  },
  {
   "cell_type": "markdown",
   "metadata": {},
   "source": [
    "As you can see the table above, it is truly important to make solid strategy for choosing food categories. When we start to build a strategy, we should consider at least some points as below  \n",
    "\n",
    "- Cost (delivery, rent, parking)\n",
    "- Availability to get food ingredient\n",
    "- Population\n",
    "- Demographics\n",
    "- Neighbors\n",
    "- Concept of site\n",
    "- Menu of the competitors\n",
    "- etc"
   ]
  },
  {
   "cell_type": "markdown",
   "metadata": {},
   "source": [
    "## References"
   ]
  },
  {
   "cell_type": "markdown",
   "metadata": {},
   "source": [
    "[1] Mike Maciag (October 2, 2013). \"Mapping the Nation's Most Densely Populated Cities\". Governing – The States and Localities. Archived from the original on August 27, 2016. Retrieved August 27, 2016.\n",
    "\n",
    "[2] \"World Urban Areas\" (PDF). Demographia. 2018. Retrieved March 27, 2018..\n",
    "\n",
    "[3] \"Top 8 Cities by GDP: China vs. The U.S.\" Business Insider, Inc. July 31, 2011. Retrieved July 1, 2018. For instance, Shanghai, the largest Chinese city with the highest economic production, and a fast-growing global financial hub, is far from matching or surpassing New York, the largest city in the U.S. and the economic and financial super center of the world.\n",
    "\n",
    "[4] \"New York City: The Financial Capital of the World\". Pando Logic. October 8, 2015. Retrieved July 1, 2018.\n",
    "\n",
    "[5] \"Plan your visit\". United Nations Visitor Centre. Archived from the original on March 14, 2017. Retrieved February 9, 2017. The Headquarters of the United Nations is located in New York City, along the East River. When you pass through the gates of the United Nations visitors' entrance, you enter an international territory. This 18-acre site does not belong to just one country, but to all countries that have joined the Organization; currently, the United Nations has 193 Member States.\n",
    "\n",
    "[6] Which States Border New York State? - WorldAtlas.comwww.worldatlas.com › articles › which-states-border-new-york-state\n",
    "\n",
    "[7] https://www.nytimes.com/2016/11/06/books/review/city-of-dreams-history-of-immigrant-new-york-tyler-anbinder.html\n",
    "\n",
    "[8] https://www.businessinsider.com/best-nyc-restaurant-for-every-cuisine-2016-12"
   ]
  }
 ],
 "metadata": {
  "kernelspec": {
   "display_name": "Python 3",
   "language": "python",
   "name": "python3"
  },
  "language_info": {
   "codemirror_mode": {
    "name": "ipython",
    "version": 3
   },
   "file_extension": ".py",
   "mimetype": "text/x-python",
   "name": "python",
   "nbconvert_exporter": "python",
   "pygments_lexer": "ipython3",
   "version": "3.7.6"
  }
 },
 "nbformat": 4,
 "nbformat_minor": 1
}
